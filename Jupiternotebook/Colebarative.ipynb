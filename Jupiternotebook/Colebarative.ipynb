{
 "cells": [
  {
   "cell_type": "code",
   "execution_count": 1,
   "outputs": [
    {
     "name": "stdout",
     "output_type": "stream",
     "text": [
      "   handler_id  game_id\n",
      "0           1        1\n",
      "1           1        2\n",
      "2           1        4\n",
      "3           2        1\n",
      "4           2       18\n"
     ]
    }
   ],
   "source": [
    "import pandas as pd\n",
    "import sqlite3\n",
    "\n",
    "from scipy.spatial.distance import cosine\n",
    "\n",
    "# Read sqlite query results into a pandas DataFrame\n",
    "con = sqlite3.connect(\"../database/gamender.db\")\n",
    "df = pd.read_sql_query(\"SELECT handler_id, game_id  FROM handlers_games\", con)\n",
    "\n",
    "# Verify that result of SQL query is stored in the dataframe\n",
    "print(df.head())\n",
    "\n",
    "con.close()"
   ],
   "metadata": {
    "collapsed": false,
    "pycharm": {
     "name": "#%%\n"
    }
   }
  },
  {
   "cell_type": "markdown",
   "source": [
    "iloc"
   ],
   "metadata": {
    "collapsed": false,
    "pycharm": {
     "name": "#%% md\n"
    }
   }
  },
  {
   "cell_type": "code",
   "execution_count": 2,
   "outputs": [
    {
     "data": {
      "text/plain": "                     game_id\nhandler_id                  \n1                          1\n1                          2\n1                          4\n2                          1\n2                         18\n...                      ...\n1050112070                18\n1220468585824505856       18\n3341912236                18\n1366267481288019975       18\n1193900804585000961       18\n\n[14134 rows x 1 columns]",
      "text/html": "<div>\n<style scoped>\n    .dataframe tbody tr th:only-of-type {\n        vertical-align: middle;\n    }\n\n    .dataframe tbody tr th {\n        vertical-align: top;\n    }\n\n    .dataframe thead th {\n        text-align: right;\n    }\n</style>\n<table border=\"1\" class=\"dataframe\">\n  <thead>\n    <tr style=\"text-align: right;\">\n      <th></th>\n      <th>game_id</th>\n    </tr>\n    <tr>\n      <th>handler_id</th>\n      <th></th>\n    </tr>\n  </thead>\n  <tbody>\n    <tr>\n      <th>1</th>\n      <td>1</td>\n    </tr>\n    <tr>\n      <th>1</th>\n      <td>2</td>\n    </tr>\n    <tr>\n      <th>1</th>\n      <td>4</td>\n    </tr>\n    <tr>\n      <th>2</th>\n      <td>1</td>\n    </tr>\n    <tr>\n      <th>2</th>\n      <td>18</td>\n    </tr>\n    <tr>\n      <th>...</th>\n      <td>...</td>\n    </tr>\n    <tr>\n      <th>1050112070</th>\n      <td>18</td>\n    </tr>\n    <tr>\n      <th>1220468585824505856</th>\n      <td>18</td>\n    </tr>\n    <tr>\n      <th>3341912236</th>\n      <td>18</td>\n    </tr>\n    <tr>\n      <th>1366267481288019975</th>\n      <td>18</td>\n    </tr>\n    <tr>\n      <th>1193900804585000961</th>\n      <td>18</td>\n    </tr>\n  </tbody>\n</table>\n<p>14134 rows × 1 columns</p>\n</div>"
     },
     "execution_count": 2,
     "metadata": {},
     "output_type": "execute_result"
    }
   ],
   "source": [
    "df.set_index('handler_id')"
   ],
   "metadata": {
    "collapsed": false,
    "pycharm": {
     "name": "#%%\n"
    }
   }
  },
  {
   "cell_type": "code",
   "execution_count": 3,
   "outputs": [],
   "source": [
    "dfgrp = df.groupby(['handler_id'])"
   ],
   "metadata": {
    "collapsed": false,
    "pycharm": {
     "name": "#%%\n"
    }
   }
  },
  {
   "cell_type": "code",
   "execution_count": 4,
   "outputs": [
    {
     "data": {
      "text/plain": "                handler_id  game_id\n0                        1        1\n1                        1        2\n2                        1        4\n3                        2        1\n4                        2       18\n...                    ...      ...\n14129           1050112070       18\n14130  1220468585824505856       18\n14131           3341912236       18\n14132  1366267481288019975       18\n14133  1193900804585000961       18\n\n[14103 rows x 2 columns]",
      "text/html": "<div>\n<style scoped>\n    .dataframe tbody tr th:only-of-type {\n        vertical-align: middle;\n    }\n\n    .dataframe tbody tr th {\n        vertical-align: top;\n    }\n\n    .dataframe thead th {\n        text-align: right;\n    }\n</style>\n<table border=\"1\" class=\"dataframe\">\n  <thead>\n    <tr style=\"text-align: right;\">\n      <th></th>\n      <th>handler_id</th>\n      <th>game_id</th>\n    </tr>\n  </thead>\n  <tbody>\n    <tr>\n      <th>0</th>\n      <td>1</td>\n      <td>1</td>\n    </tr>\n    <tr>\n      <th>1</th>\n      <td>1</td>\n      <td>2</td>\n    </tr>\n    <tr>\n      <th>2</th>\n      <td>1</td>\n      <td>4</td>\n    </tr>\n    <tr>\n      <th>3</th>\n      <td>2</td>\n      <td>1</td>\n    </tr>\n    <tr>\n      <th>4</th>\n      <td>2</td>\n      <td>18</td>\n    </tr>\n    <tr>\n      <th>...</th>\n      <td>...</td>\n      <td>...</td>\n    </tr>\n    <tr>\n      <th>14129</th>\n      <td>1050112070</td>\n      <td>18</td>\n    </tr>\n    <tr>\n      <th>14130</th>\n      <td>1220468585824505856</td>\n      <td>18</td>\n    </tr>\n    <tr>\n      <th>14131</th>\n      <td>3341912236</td>\n      <td>18</td>\n    </tr>\n    <tr>\n      <th>14132</th>\n      <td>1366267481288019975</td>\n      <td>18</td>\n    </tr>\n    <tr>\n      <th>14133</th>\n      <td>1193900804585000961</td>\n      <td>18</td>\n    </tr>\n  </tbody>\n</table>\n<p>14103 rows × 2 columns</p>\n</div>"
     },
     "execution_count": 4,
     "metadata": {},
     "output_type": "execute_result"
    }
   ],
   "source": [
    "dfgrp.head()"
   ],
   "metadata": {
    "collapsed": false,
    "pycharm": {
     "name": "#%%\n"
    }
   }
  },
  {
   "cell_type": "code",
   "execution_count": 5,
   "outputs": [],
   "source": [
    "df.reset_index(inplace=True)"
   ],
   "metadata": {
    "collapsed": false,
    "pycharm": {
     "name": "#%%\n"
    }
   }
  },
  {
   "cell_type": "code",
   "execution_count": 6,
   "outputs": [],
   "source": [
    "gb = df.groupby(['handler_id'])\n",
    "result = gb['game_id'].unique()"
   ],
   "metadata": {
    "collapsed": false,
    "pycharm": {
     "name": "#%%\n"
    }
   }
  },
  {
   "cell_type": "code",
   "execution_count": 8,
   "outputs": [
    {
     "data": {
      "text/plain": "handler_id\n1                           [1, 2, 4]\n2                      [1, 18, 11, 2]\n3                         [3, 17, 15]\n22833                            [11]\n27603                            [16]\n                            ...      \n1490207262798979072              [10]\n1490208607098519552              [10]\n1490210717936590850              [10]\n1490229197490556930               [1]\n1490239532654026757              [12]\nName: game_id, Length: 13734, dtype: object"
     },
     "execution_count": 8,
     "metadata": {},
     "output_type": "execute_result"
    }
   ],
   "source": [
    "result"
   ],
   "metadata": {
    "collapsed": false,
    "pycharm": {
     "name": "#%%\n"
    }
   }
  },
  {
   "cell_type": "code",
   "execution_count": 9,
   "outputs": [],
   "source": [
    "resultframe = result.to_frame()"
   ],
   "metadata": {
    "collapsed": false,
    "pycharm": {
     "name": "#%%\n"
    }
   }
  },
  {
   "cell_type": "code",
   "execution_count": 10,
   "outputs": [],
   "source": [
    "def sublist_uniques(data, sublist):\n",
    "    categories = set()\n",
    "    for d, t in data.iterrows():\n",
    "        try:\n",
    "            for j in t[sublist]:\n",
    "                categories.add(j)\n",
    "        except:\n",
    "            pass\n",
    "    return list(categories)"
   ],
   "metadata": {
    "collapsed": false,
    "pycharm": {
     "name": "#%%\n"
    }
   }
  },
  {
   "cell_type": "code",
   "execution_count": 11,
   "outputs": [],
   "source": [
    "import numpy as np\n",
    "\n",
    "\n",
    "def sublists_to_dummies(f, sublist, index_key=None):\n",
    "    categories = sublist_uniques(f, sublist)\n",
    "    frame = pd.DataFrame(columns=categories)\n",
    "    for d, i in f.iterrows():\n",
    "        if type(i[sublist]) == list or np.array:\n",
    "            try:\n",
    "                if index_key is not None:\n",
    "                    key = i[index_key]\n",
    "                    f = np.zeros(len(categories))\n",
    "                    for j in i[sublist]:\n",
    "                        f[categories.index(j)] = 1\n",
    "                    if key in frame.index:\n",
    "                        for j in i[sublist]:\n",
    "                            frame.loc[key][j] += 1\n",
    "                    else:\n",
    "                        frame.loc[key] = f\n",
    "                else:\n",
    "                    f = np.zeros(len(categories))\n",
    "                    for j in i[sublist]:\n",
    "                        f[categories.index(j)] = 1\n",
    "                    frame.loc[d] = f\n",
    "            except:\n",
    "                pass\n",
    "\n",
    "    return frame"
   ],
   "metadata": {
    "collapsed": false,
    "pycharm": {
     "name": "#%%\n"
    }
   }
  },
  {
   "cell_type": "code",
   "execution_count": 12,
   "outputs": [],
   "source": [
    "sparseframe = sublists_to_dummies(resultframe, 'game_id')"
   ],
   "metadata": {
    "collapsed": false,
    "pycharm": {
     "name": "#%%\n"
    }
   }
  },
  {
   "cell_type": "code",
   "execution_count": 13,
   "outputs": [
    {
     "data": {
      "text/plain": "                      1    2    3    4    5    6    7    8    9    10   11  \\\n1                    1.0  1.0  0.0  1.0  0.0  0.0  0.0  0.0  0.0  0.0  0.0   \n2                    1.0  1.0  0.0  0.0  0.0  0.0  0.0  0.0  0.0  0.0  1.0   \n3                    0.0  0.0  1.0  0.0  0.0  0.0  0.0  0.0  0.0  0.0  0.0   \n22833                0.0  0.0  0.0  0.0  0.0  0.0  0.0  0.0  0.0  0.0  1.0   \n27603                0.0  0.0  0.0  0.0  0.0  0.0  0.0  0.0  0.0  0.0  0.0   \n...                  ...  ...  ...  ...  ...  ...  ...  ...  ...  ...  ...   \n1490207262798979072  0.0  0.0  0.0  0.0  0.0  0.0  0.0  0.0  0.0  1.0  0.0   \n1490208607098519552  0.0  0.0  0.0  0.0  0.0  0.0  0.0  0.0  0.0  1.0  0.0   \n1490210717936590850  0.0  0.0  0.0  0.0  0.0  0.0  0.0  0.0  0.0  1.0  0.0   \n1490229197490556930  1.0  0.0  0.0  0.0  0.0  0.0  0.0  0.0  0.0  0.0  0.0   \n1490239532654026757  0.0  0.0  0.0  0.0  0.0  0.0  0.0  0.0  0.0  0.0  0.0   \n\n                      12   13   14   15   16   17   18  \n1                    0.0  0.0  0.0  0.0  0.0  0.0  0.0  \n2                    0.0  0.0  0.0  0.0  0.0  0.0  1.0  \n3                    0.0  0.0  0.0  1.0  0.0  1.0  0.0  \n22833                0.0  0.0  0.0  0.0  0.0  0.0  0.0  \n27603                0.0  0.0  0.0  0.0  1.0  0.0  0.0  \n...                  ...  ...  ...  ...  ...  ...  ...  \n1490207262798979072  0.0  0.0  0.0  0.0  0.0  0.0  0.0  \n1490208607098519552  0.0  0.0  0.0  0.0  0.0  0.0  0.0  \n1490210717936590850  0.0  0.0  0.0  0.0  0.0  0.0  0.0  \n1490229197490556930  0.0  0.0  0.0  0.0  0.0  0.0  0.0  \n1490239532654026757  1.0  0.0  0.0  0.0  0.0  0.0  0.0  \n\n[13734 rows x 18 columns]",
      "text/html": "<div>\n<style scoped>\n    .dataframe tbody tr th:only-of-type {\n        vertical-align: middle;\n    }\n\n    .dataframe tbody tr th {\n        vertical-align: top;\n    }\n\n    .dataframe thead th {\n        text-align: right;\n    }\n</style>\n<table border=\"1\" class=\"dataframe\">\n  <thead>\n    <tr style=\"text-align: right;\">\n      <th></th>\n      <th>1</th>\n      <th>2</th>\n      <th>3</th>\n      <th>4</th>\n      <th>5</th>\n      <th>6</th>\n      <th>7</th>\n      <th>8</th>\n      <th>9</th>\n      <th>10</th>\n      <th>11</th>\n      <th>12</th>\n      <th>13</th>\n      <th>14</th>\n      <th>15</th>\n      <th>16</th>\n      <th>17</th>\n      <th>18</th>\n    </tr>\n  </thead>\n  <tbody>\n    <tr>\n      <th>1</th>\n      <td>1.0</td>\n      <td>1.0</td>\n      <td>0.0</td>\n      <td>1.0</td>\n      <td>0.0</td>\n      <td>0.0</td>\n      <td>0.0</td>\n      <td>0.0</td>\n      <td>0.0</td>\n      <td>0.0</td>\n      <td>0.0</td>\n      <td>0.0</td>\n      <td>0.0</td>\n      <td>0.0</td>\n      <td>0.0</td>\n      <td>0.0</td>\n      <td>0.0</td>\n      <td>0.0</td>\n    </tr>\n    <tr>\n      <th>2</th>\n      <td>1.0</td>\n      <td>1.0</td>\n      <td>0.0</td>\n      <td>0.0</td>\n      <td>0.0</td>\n      <td>0.0</td>\n      <td>0.0</td>\n      <td>0.0</td>\n      <td>0.0</td>\n      <td>0.0</td>\n      <td>1.0</td>\n      <td>0.0</td>\n      <td>0.0</td>\n      <td>0.0</td>\n      <td>0.0</td>\n      <td>0.0</td>\n      <td>0.0</td>\n      <td>1.0</td>\n    </tr>\n    <tr>\n      <th>3</th>\n      <td>0.0</td>\n      <td>0.0</td>\n      <td>1.0</td>\n      <td>0.0</td>\n      <td>0.0</td>\n      <td>0.0</td>\n      <td>0.0</td>\n      <td>0.0</td>\n      <td>0.0</td>\n      <td>0.0</td>\n      <td>0.0</td>\n      <td>0.0</td>\n      <td>0.0</td>\n      <td>0.0</td>\n      <td>1.0</td>\n      <td>0.0</td>\n      <td>1.0</td>\n      <td>0.0</td>\n    </tr>\n    <tr>\n      <th>22833</th>\n      <td>0.0</td>\n      <td>0.0</td>\n      <td>0.0</td>\n      <td>0.0</td>\n      <td>0.0</td>\n      <td>0.0</td>\n      <td>0.0</td>\n      <td>0.0</td>\n      <td>0.0</td>\n      <td>0.0</td>\n      <td>1.0</td>\n      <td>0.0</td>\n      <td>0.0</td>\n      <td>0.0</td>\n      <td>0.0</td>\n      <td>0.0</td>\n      <td>0.0</td>\n      <td>0.0</td>\n    </tr>\n    <tr>\n      <th>27603</th>\n      <td>0.0</td>\n      <td>0.0</td>\n      <td>0.0</td>\n      <td>0.0</td>\n      <td>0.0</td>\n      <td>0.0</td>\n      <td>0.0</td>\n      <td>0.0</td>\n      <td>0.0</td>\n      <td>0.0</td>\n      <td>0.0</td>\n      <td>0.0</td>\n      <td>0.0</td>\n      <td>0.0</td>\n      <td>0.0</td>\n      <td>1.0</td>\n      <td>0.0</td>\n      <td>0.0</td>\n    </tr>\n    <tr>\n      <th>...</th>\n      <td>...</td>\n      <td>...</td>\n      <td>...</td>\n      <td>...</td>\n      <td>...</td>\n      <td>...</td>\n      <td>...</td>\n      <td>...</td>\n      <td>...</td>\n      <td>...</td>\n      <td>...</td>\n      <td>...</td>\n      <td>...</td>\n      <td>...</td>\n      <td>...</td>\n      <td>...</td>\n      <td>...</td>\n      <td>...</td>\n    </tr>\n    <tr>\n      <th>1490207262798979072</th>\n      <td>0.0</td>\n      <td>0.0</td>\n      <td>0.0</td>\n      <td>0.0</td>\n      <td>0.0</td>\n      <td>0.0</td>\n      <td>0.0</td>\n      <td>0.0</td>\n      <td>0.0</td>\n      <td>1.0</td>\n      <td>0.0</td>\n      <td>0.0</td>\n      <td>0.0</td>\n      <td>0.0</td>\n      <td>0.0</td>\n      <td>0.0</td>\n      <td>0.0</td>\n      <td>0.0</td>\n    </tr>\n    <tr>\n      <th>1490208607098519552</th>\n      <td>0.0</td>\n      <td>0.0</td>\n      <td>0.0</td>\n      <td>0.0</td>\n      <td>0.0</td>\n      <td>0.0</td>\n      <td>0.0</td>\n      <td>0.0</td>\n      <td>0.0</td>\n      <td>1.0</td>\n      <td>0.0</td>\n      <td>0.0</td>\n      <td>0.0</td>\n      <td>0.0</td>\n      <td>0.0</td>\n      <td>0.0</td>\n      <td>0.0</td>\n      <td>0.0</td>\n    </tr>\n    <tr>\n      <th>1490210717936590850</th>\n      <td>0.0</td>\n      <td>0.0</td>\n      <td>0.0</td>\n      <td>0.0</td>\n      <td>0.0</td>\n      <td>0.0</td>\n      <td>0.0</td>\n      <td>0.0</td>\n      <td>0.0</td>\n      <td>1.0</td>\n      <td>0.0</td>\n      <td>0.0</td>\n      <td>0.0</td>\n      <td>0.0</td>\n      <td>0.0</td>\n      <td>0.0</td>\n      <td>0.0</td>\n      <td>0.0</td>\n    </tr>\n    <tr>\n      <th>1490229197490556930</th>\n      <td>1.0</td>\n      <td>0.0</td>\n      <td>0.0</td>\n      <td>0.0</td>\n      <td>0.0</td>\n      <td>0.0</td>\n      <td>0.0</td>\n      <td>0.0</td>\n      <td>0.0</td>\n      <td>0.0</td>\n      <td>0.0</td>\n      <td>0.0</td>\n      <td>0.0</td>\n      <td>0.0</td>\n      <td>0.0</td>\n      <td>0.0</td>\n      <td>0.0</td>\n      <td>0.0</td>\n    </tr>\n    <tr>\n      <th>1490239532654026757</th>\n      <td>0.0</td>\n      <td>0.0</td>\n      <td>0.0</td>\n      <td>0.0</td>\n      <td>0.0</td>\n      <td>0.0</td>\n      <td>0.0</td>\n      <td>0.0</td>\n      <td>0.0</td>\n      <td>0.0</td>\n      <td>0.0</td>\n      <td>1.0</td>\n      <td>0.0</td>\n      <td>0.0</td>\n      <td>0.0</td>\n      <td>0.0</td>\n      <td>0.0</td>\n      <td>0.0</td>\n    </tr>\n  </tbody>\n</table>\n<p>13734 rows × 18 columns</p>\n</div>"
     },
     "execution_count": 13,
     "metadata": {},
     "output_type": "execute_result"
    }
   ],
   "source": [
    "sparseframe"
   ],
   "metadata": {
    "collapsed": false,
    "pycharm": {
     "name": "#%%\n"
    }
   }
  },
  {
   "cell_type": "markdown",
   "source": [],
   "metadata": {
    "collapsed": false
   }
  },
  {
   "cell_type": "code",
   "execution_count": 14,
   "outputs": [],
   "source": [
    "sparseframe.index.name = 'handler_id'"
   ],
   "metadata": {
    "collapsed": false,
    "pycharm": {
     "name": "#%%\n"
    }
   }
  },
  {
   "cell_type": "markdown",
   "source": [
    "# Item Based Collaborative Filtering"
   ],
   "metadata": {
    "collapsed": false
   }
  },
  {
   "cell_type": "code",
   "execution_count": 15,
   "outputs": [],
   "source": [
    "data = sparseframe.reset_index()"
   ],
   "metadata": {
    "collapsed": false,
    "pycharm": {
     "name": "#%%\n"
    }
   }
  },
  {
   "cell_type": "markdown",
   "source": [
    "## Drop handler"
   ],
   "metadata": {
    "collapsed": false
   }
  },
  {
   "cell_type": "code",
   "execution_count": 16,
   "outputs": [
    {
     "name": "stderr",
     "output_type": "stream",
     "text": [
      "C:\\Users\\beel\\AppData\\Local\\Temp/ipykernel_16924/4225273426.py:1: FutureWarning: In a future version of pandas all arguments of DataFrame.drop except for the argument 'labels' will be keyword-only\n",
      "  data = data.drop('handler_id', 1)\n"
     ]
    }
   ],
   "source": [
    "data = data.drop('handler_id', 1)"
   ],
   "metadata": {
    "collapsed": false,
    "pycharm": {
     "name": "#%%\n"
    }
   }
  },
  {
   "cell_type": "code",
   "execution_count": 17,
   "outputs": [
    {
     "data": {
      "text/plain": "         1    2    3    4    5    6    7    8    9   10   11   12   13   14  \\\n0      1.0  1.0  0.0  1.0  0.0  0.0  0.0  0.0  0.0  0.0  0.0  0.0  0.0  0.0   \n1      1.0  1.0  0.0  0.0  0.0  0.0  0.0  0.0  0.0  0.0  1.0  0.0  0.0  0.0   \n2      0.0  0.0  1.0  0.0  0.0  0.0  0.0  0.0  0.0  0.0  0.0  0.0  0.0  0.0   \n3      0.0  0.0  0.0  0.0  0.0  0.0  0.0  0.0  0.0  0.0  1.0  0.0  0.0  0.0   \n4      0.0  0.0  0.0  0.0  0.0  0.0  0.0  0.0  0.0  0.0  0.0  0.0  0.0  0.0   \n...    ...  ...  ...  ...  ...  ...  ...  ...  ...  ...  ...  ...  ...  ...   \n13729  0.0  0.0  0.0  0.0  0.0  0.0  0.0  0.0  0.0  1.0  0.0  0.0  0.0  0.0   \n13730  0.0  0.0  0.0  0.0  0.0  0.0  0.0  0.0  0.0  1.0  0.0  0.0  0.0  0.0   \n13731  0.0  0.0  0.0  0.0  0.0  0.0  0.0  0.0  0.0  1.0  0.0  0.0  0.0  0.0   \n13732  1.0  0.0  0.0  0.0  0.0  0.0  0.0  0.0  0.0  0.0  0.0  0.0  0.0  0.0   \n13733  0.0  0.0  0.0  0.0  0.0  0.0  0.0  0.0  0.0  0.0  0.0  1.0  0.0  0.0   \n\n        15   16   17   18  \n0      0.0  0.0  0.0  0.0  \n1      0.0  0.0  0.0  1.0  \n2      1.0  0.0  1.0  0.0  \n3      0.0  0.0  0.0  0.0  \n4      0.0  1.0  0.0  0.0  \n...    ...  ...  ...  ...  \n13729  0.0  0.0  0.0  0.0  \n13730  0.0  0.0  0.0  0.0  \n13731  0.0  0.0  0.0  0.0  \n13732  0.0  0.0  0.0  0.0  \n13733  0.0  0.0  0.0  0.0  \n\n[13734 rows x 18 columns]",
      "text/html": "<div>\n<style scoped>\n    .dataframe tbody tr th:only-of-type {\n        vertical-align: middle;\n    }\n\n    .dataframe tbody tr th {\n        vertical-align: top;\n    }\n\n    .dataframe thead th {\n        text-align: right;\n    }\n</style>\n<table border=\"1\" class=\"dataframe\">\n  <thead>\n    <tr style=\"text-align: right;\">\n      <th></th>\n      <th>1</th>\n      <th>2</th>\n      <th>3</th>\n      <th>4</th>\n      <th>5</th>\n      <th>6</th>\n      <th>7</th>\n      <th>8</th>\n      <th>9</th>\n      <th>10</th>\n      <th>11</th>\n      <th>12</th>\n      <th>13</th>\n      <th>14</th>\n      <th>15</th>\n      <th>16</th>\n      <th>17</th>\n      <th>18</th>\n    </tr>\n  </thead>\n  <tbody>\n    <tr>\n      <th>0</th>\n      <td>1.0</td>\n      <td>1.0</td>\n      <td>0.0</td>\n      <td>1.0</td>\n      <td>0.0</td>\n      <td>0.0</td>\n      <td>0.0</td>\n      <td>0.0</td>\n      <td>0.0</td>\n      <td>0.0</td>\n      <td>0.0</td>\n      <td>0.0</td>\n      <td>0.0</td>\n      <td>0.0</td>\n      <td>0.0</td>\n      <td>0.0</td>\n      <td>0.0</td>\n      <td>0.0</td>\n    </tr>\n    <tr>\n      <th>1</th>\n      <td>1.0</td>\n      <td>1.0</td>\n      <td>0.0</td>\n      <td>0.0</td>\n      <td>0.0</td>\n      <td>0.0</td>\n      <td>0.0</td>\n      <td>0.0</td>\n      <td>0.0</td>\n      <td>0.0</td>\n      <td>1.0</td>\n      <td>0.0</td>\n      <td>0.0</td>\n      <td>0.0</td>\n      <td>0.0</td>\n      <td>0.0</td>\n      <td>0.0</td>\n      <td>1.0</td>\n    </tr>\n    <tr>\n      <th>2</th>\n      <td>0.0</td>\n      <td>0.0</td>\n      <td>1.0</td>\n      <td>0.0</td>\n      <td>0.0</td>\n      <td>0.0</td>\n      <td>0.0</td>\n      <td>0.0</td>\n      <td>0.0</td>\n      <td>0.0</td>\n      <td>0.0</td>\n      <td>0.0</td>\n      <td>0.0</td>\n      <td>0.0</td>\n      <td>1.0</td>\n      <td>0.0</td>\n      <td>1.0</td>\n      <td>0.0</td>\n    </tr>\n    <tr>\n      <th>3</th>\n      <td>0.0</td>\n      <td>0.0</td>\n      <td>0.0</td>\n      <td>0.0</td>\n      <td>0.0</td>\n      <td>0.0</td>\n      <td>0.0</td>\n      <td>0.0</td>\n      <td>0.0</td>\n      <td>0.0</td>\n      <td>1.0</td>\n      <td>0.0</td>\n      <td>0.0</td>\n      <td>0.0</td>\n      <td>0.0</td>\n      <td>0.0</td>\n      <td>0.0</td>\n      <td>0.0</td>\n    </tr>\n    <tr>\n      <th>4</th>\n      <td>0.0</td>\n      <td>0.0</td>\n      <td>0.0</td>\n      <td>0.0</td>\n      <td>0.0</td>\n      <td>0.0</td>\n      <td>0.0</td>\n      <td>0.0</td>\n      <td>0.0</td>\n      <td>0.0</td>\n      <td>0.0</td>\n      <td>0.0</td>\n      <td>0.0</td>\n      <td>0.0</td>\n      <td>0.0</td>\n      <td>1.0</td>\n      <td>0.0</td>\n      <td>0.0</td>\n    </tr>\n    <tr>\n      <th>...</th>\n      <td>...</td>\n      <td>...</td>\n      <td>...</td>\n      <td>...</td>\n      <td>...</td>\n      <td>...</td>\n      <td>...</td>\n      <td>...</td>\n      <td>...</td>\n      <td>...</td>\n      <td>...</td>\n      <td>...</td>\n      <td>...</td>\n      <td>...</td>\n      <td>...</td>\n      <td>...</td>\n      <td>...</td>\n      <td>...</td>\n    </tr>\n    <tr>\n      <th>13729</th>\n      <td>0.0</td>\n      <td>0.0</td>\n      <td>0.0</td>\n      <td>0.0</td>\n      <td>0.0</td>\n      <td>0.0</td>\n      <td>0.0</td>\n      <td>0.0</td>\n      <td>0.0</td>\n      <td>1.0</td>\n      <td>0.0</td>\n      <td>0.0</td>\n      <td>0.0</td>\n      <td>0.0</td>\n      <td>0.0</td>\n      <td>0.0</td>\n      <td>0.0</td>\n      <td>0.0</td>\n    </tr>\n    <tr>\n      <th>13730</th>\n      <td>0.0</td>\n      <td>0.0</td>\n      <td>0.0</td>\n      <td>0.0</td>\n      <td>0.0</td>\n      <td>0.0</td>\n      <td>0.0</td>\n      <td>0.0</td>\n      <td>0.0</td>\n      <td>1.0</td>\n      <td>0.0</td>\n      <td>0.0</td>\n      <td>0.0</td>\n      <td>0.0</td>\n      <td>0.0</td>\n      <td>0.0</td>\n      <td>0.0</td>\n      <td>0.0</td>\n    </tr>\n    <tr>\n      <th>13731</th>\n      <td>0.0</td>\n      <td>0.0</td>\n      <td>0.0</td>\n      <td>0.0</td>\n      <td>0.0</td>\n      <td>0.0</td>\n      <td>0.0</td>\n      <td>0.0</td>\n      <td>0.0</td>\n      <td>1.0</td>\n      <td>0.0</td>\n      <td>0.0</td>\n      <td>0.0</td>\n      <td>0.0</td>\n      <td>0.0</td>\n      <td>0.0</td>\n      <td>0.0</td>\n      <td>0.0</td>\n    </tr>\n    <tr>\n      <th>13732</th>\n      <td>1.0</td>\n      <td>0.0</td>\n      <td>0.0</td>\n      <td>0.0</td>\n      <td>0.0</td>\n      <td>0.0</td>\n      <td>0.0</td>\n      <td>0.0</td>\n      <td>0.0</td>\n      <td>0.0</td>\n      <td>0.0</td>\n      <td>0.0</td>\n      <td>0.0</td>\n      <td>0.0</td>\n      <td>0.0</td>\n      <td>0.0</td>\n      <td>0.0</td>\n      <td>0.0</td>\n    </tr>\n    <tr>\n      <th>13733</th>\n      <td>0.0</td>\n      <td>0.0</td>\n      <td>0.0</td>\n      <td>0.0</td>\n      <td>0.0</td>\n      <td>0.0</td>\n      <td>0.0</td>\n      <td>0.0</td>\n      <td>0.0</td>\n      <td>0.0</td>\n      <td>0.0</td>\n      <td>1.0</td>\n      <td>0.0</td>\n      <td>0.0</td>\n      <td>0.0</td>\n      <td>0.0</td>\n      <td>0.0</td>\n      <td>0.0</td>\n    </tr>\n  </tbody>\n</table>\n<p>13734 rows × 18 columns</p>\n</div>"
     },
     "execution_count": 17,
     "metadata": {},
     "output_type": "execute_result"
    }
   ],
   "source": [
    "data"
   ],
   "metadata": {
    "collapsed": false,
    "pycharm": {
     "name": "#%%\n"
    }
   }
  },
  {
   "cell_type": "code",
   "execution_count": 18,
   "outputs": [],
   "source": [
    "data_ibs = pd.DataFrame(index=data.columns, columns=data.columns)"
   ],
   "metadata": {
    "collapsed": false,
    "pycharm": {
     "name": "#%%\n"
    }
   }
  },
  {
   "cell_type": "code",
   "execution_count": 19,
   "outputs": [],
   "source": [
    "for i in range(0, len(data_ibs.columns)):\n",
    "    # Loop through the columns for each column\n",
    "    for j in range(0, len(data_ibs.columns)):\n",
    "        # Fill in placeholder with cosine similarities\n",
    "        data_ibs.iloc[i, j] = 1 - cosine(data.iloc[:, i], data.iloc[:, j])"
   ],
   "metadata": {
    "collapsed": false,
    "pycharm": {
     "name": "#%%\n"
    }
   }
  },
  {
   "cell_type": "code",
   "execution_count": 20,
   "outputs": [
    {
     "data": {
      "text/plain": "           1         2         3         4         5         6         7  \\\n1          1  0.015397   0.00872  0.001683  0.001899       0.0  0.010306   \n2   0.015397         1   0.00872  0.003787  0.002136       0.0  0.017391   \n3    0.00872   0.00872         1   0.00715   0.00605  0.002612  0.009849   \n4   0.001683  0.003787   0.00715         1  0.010511       0.0  0.007606   \n5   0.001899  0.002136   0.00605  0.010511         1       0.0       0.0   \n6        0.0       0.0  0.002612       0.0       0.0         1       0.0   \n7   0.010306  0.017391  0.009849  0.007606       0.0       0.0         1   \n8   0.005675  0.004256  0.005022       0.0       0.0       0.0  0.004273   \n9   0.010652   0.00856  0.009695  0.002808  0.003167       0.0  0.012032   \n10  0.017379  0.019552  0.004342       0.0  0.002128       0.0  0.009238   \n11  0.030257  0.023827  0.012851  0.020468  0.002099   0.00136  0.025063   \n12  0.003866  0.001087  0.002052  0.005349       0.0       0.0  0.005458   \n13  0.008783  0.011116  0.004663       0.0  0.002285   0.00444  0.014881   \n14  0.012147  0.003154  0.002977  0.005172  0.001945       0.0  0.003166   \n15  0.005268  0.003556  0.003356       0.0  0.002193       0.0   0.00119   \n16  0.010355  0.016308  0.012095  0.005731  0.002155  0.001396   0.02807   \n17   0.00829   0.01088  0.013204  0.007647  0.005751       0.0  0.006242   \n18  0.004663  0.010492  0.002971       0.0  0.001941       0.0  0.005267   \n\n           8         9        10        11        12        13        14  \\\n1   0.005675  0.010652  0.017379  0.030257  0.003866  0.008783  0.012147   \n2   0.004256   0.00856  0.019552  0.023827  0.001087  0.011116  0.003154   \n3   0.005022  0.009695  0.004342  0.012851  0.002052  0.004663  0.002977   \n4        0.0  0.002808       0.0  0.020468  0.005349       0.0  0.005172   \n5        0.0  0.003167  0.002128  0.002099       0.0  0.002285  0.001945   \n6        0.0       0.0       0.0   0.00136       0.0   0.00444       0.0   \n7   0.004273  0.012032  0.009238  0.025063  0.005458  0.014881  0.003166   \n8          1   0.00631  0.002119  0.007318       0.0  0.004552  0.000969   \n9    0.00631         1   0.00682  0.015139  0.001612  0.009155  0.001558   \n10  0.002119   0.00682         1   0.01017  0.001083  0.009841  0.004188   \n11  0.007318  0.015139   0.01017         1  0.001068  0.010922   0.00723   \n12       0.0  0.001612  0.001083  0.001068         1  0.002326   0.00099   \n13  0.004552  0.009155  0.009841  0.010922  0.002326         1  0.008995   \n14  0.000969  0.001558  0.004188   0.00723   0.00099  0.008995         1   \n15  0.001092  0.001757  0.003541  0.005823       0.0  0.005071  0.001079   \n16  0.004293  0.013816  0.010442   0.02518  0.005484   0.00623  0.005302   \n17  0.002864  0.006913  0.004644  0.013745  0.001463  0.001662       0.0   \n18  0.000967       0.0   0.00418  0.002062  0.002963  0.002244  0.004776   \n\n          15        16        17        18  \n1   0.005268  0.010355   0.00829  0.004663  \n2   0.003556  0.016308   0.01088  0.010492  \n3   0.003356  0.012095  0.013204  0.002971  \n4        0.0  0.005731  0.007647       0.0  \n5   0.002193  0.002155  0.005751  0.001941  \n6        0.0  0.001396       0.0       0.0  \n7    0.00119   0.02807  0.006242  0.005267  \n8   0.001092  0.004293  0.002864  0.000967  \n9   0.001757  0.013816  0.006913       0.0  \n10  0.003541  0.010442  0.004644   0.00418  \n11  0.005823   0.02518  0.013745  0.002062  \n12       0.0  0.005484  0.001463  0.002963  \n13  0.005071   0.00623  0.001662  0.002244  \n14  0.001079  0.005302       0.0  0.004776  \n15         1  0.001196  0.003191  0.001077  \n16  0.001196         1  0.017247  0.003175  \n17  0.003191  0.017247         1  0.001412  \n18  0.001077  0.003175  0.001412         1  ",
      "text/html": "<div>\n<style scoped>\n    .dataframe tbody tr th:only-of-type {\n        vertical-align: middle;\n    }\n\n    .dataframe tbody tr th {\n        vertical-align: top;\n    }\n\n    .dataframe thead th {\n        text-align: right;\n    }\n</style>\n<table border=\"1\" class=\"dataframe\">\n  <thead>\n    <tr style=\"text-align: right;\">\n      <th></th>\n      <th>1</th>\n      <th>2</th>\n      <th>3</th>\n      <th>4</th>\n      <th>5</th>\n      <th>6</th>\n      <th>7</th>\n      <th>8</th>\n      <th>9</th>\n      <th>10</th>\n      <th>11</th>\n      <th>12</th>\n      <th>13</th>\n      <th>14</th>\n      <th>15</th>\n      <th>16</th>\n      <th>17</th>\n      <th>18</th>\n    </tr>\n  </thead>\n  <tbody>\n    <tr>\n      <th>1</th>\n      <td>1</td>\n      <td>0.015397</td>\n      <td>0.00872</td>\n      <td>0.001683</td>\n      <td>0.001899</td>\n      <td>0.0</td>\n      <td>0.010306</td>\n      <td>0.005675</td>\n      <td>0.010652</td>\n      <td>0.017379</td>\n      <td>0.030257</td>\n      <td>0.003866</td>\n      <td>0.008783</td>\n      <td>0.012147</td>\n      <td>0.005268</td>\n      <td>0.010355</td>\n      <td>0.00829</td>\n      <td>0.004663</td>\n    </tr>\n    <tr>\n      <th>2</th>\n      <td>0.015397</td>\n      <td>1</td>\n      <td>0.00872</td>\n      <td>0.003787</td>\n      <td>0.002136</td>\n      <td>0.0</td>\n      <td>0.017391</td>\n      <td>0.004256</td>\n      <td>0.00856</td>\n      <td>0.019552</td>\n      <td>0.023827</td>\n      <td>0.001087</td>\n      <td>0.011116</td>\n      <td>0.003154</td>\n      <td>0.003556</td>\n      <td>0.016308</td>\n      <td>0.01088</td>\n      <td>0.010492</td>\n    </tr>\n    <tr>\n      <th>3</th>\n      <td>0.00872</td>\n      <td>0.00872</td>\n      <td>1</td>\n      <td>0.00715</td>\n      <td>0.00605</td>\n      <td>0.002612</td>\n      <td>0.009849</td>\n      <td>0.005022</td>\n      <td>0.009695</td>\n      <td>0.004342</td>\n      <td>0.012851</td>\n      <td>0.002052</td>\n      <td>0.004663</td>\n      <td>0.002977</td>\n      <td>0.003356</td>\n      <td>0.012095</td>\n      <td>0.013204</td>\n      <td>0.002971</td>\n    </tr>\n    <tr>\n      <th>4</th>\n      <td>0.001683</td>\n      <td>0.003787</td>\n      <td>0.00715</td>\n      <td>1</td>\n      <td>0.010511</td>\n      <td>0.0</td>\n      <td>0.007606</td>\n      <td>0.0</td>\n      <td>0.002808</td>\n      <td>0.0</td>\n      <td>0.020468</td>\n      <td>0.005349</td>\n      <td>0.0</td>\n      <td>0.005172</td>\n      <td>0.0</td>\n      <td>0.005731</td>\n      <td>0.007647</td>\n      <td>0.0</td>\n    </tr>\n    <tr>\n      <th>5</th>\n      <td>0.001899</td>\n      <td>0.002136</td>\n      <td>0.00605</td>\n      <td>0.010511</td>\n      <td>1</td>\n      <td>0.0</td>\n      <td>0.0</td>\n      <td>0.0</td>\n      <td>0.003167</td>\n      <td>0.002128</td>\n      <td>0.002099</td>\n      <td>0.0</td>\n      <td>0.002285</td>\n      <td>0.001945</td>\n      <td>0.002193</td>\n      <td>0.002155</td>\n      <td>0.005751</td>\n      <td>0.001941</td>\n    </tr>\n    <tr>\n      <th>6</th>\n      <td>0.0</td>\n      <td>0.0</td>\n      <td>0.002612</td>\n      <td>0.0</td>\n      <td>0.0</td>\n      <td>1</td>\n      <td>0.0</td>\n      <td>0.0</td>\n      <td>0.0</td>\n      <td>0.0</td>\n      <td>0.00136</td>\n      <td>0.0</td>\n      <td>0.00444</td>\n      <td>0.0</td>\n      <td>0.0</td>\n      <td>0.001396</td>\n      <td>0.0</td>\n      <td>0.0</td>\n    </tr>\n    <tr>\n      <th>7</th>\n      <td>0.010306</td>\n      <td>0.017391</td>\n      <td>0.009849</td>\n      <td>0.007606</td>\n      <td>0.0</td>\n      <td>0.0</td>\n      <td>1</td>\n      <td>0.004273</td>\n      <td>0.012032</td>\n      <td>0.009238</td>\n      <td>0.025063</td>\n      <td>0.005458</td>\n      <td>0.014881</td>\n      <td>0.003166</td>\n      <td>0.00119</td>\n      <td>0.02807</td>\n      <td>0.006242</td>\n      <td>0.005267</td>\n    </tr>\n    <tr>\n      <th>8</th>\n      <td>0.005675</td>\n      <td>0.004256</td>\n      <td>0.005022</td>\n      <td>0.0</td>\n      <td>0.0</td>\n      <td>0.0</td>\n      <td>0.004273</td>\n      <td>1</td>\n      <td>0.00631</td>\n      <td>0.002119</td>\n      <td>0.007318</td>\n      <td>0.0</td>\n      <td>0.004552</td>\n      <td>0.000969</td>\n      <td>0.001092</td>\n      <td>0.004293</td>\n      <td>0.002864</td>\n      <td>0.000967</td>\n    </tr>\n    <tr>\n      <th>9</th>\n      <td>0.010652</td>\n      <td>0.00856</td>\n      <td>0.009695</td>\n      <td>0.002808</td>\n      <td>0.003167</td>\n      <td>0.0</td>\n      <td>0.012032</td>\n      <td>0.00631</td>\n      <td>1</td>\n      <td>0.00682</td>\n      <td>0.015139</td>\n      <td>0.001612</td>\n      <td>0.009155</td>\n      <td>0.001558</td>\n      <td>0.001757</td>\n      <td>0.013816</td>\n      <td>0.006913</td>\n      <td>0.0</td>\n    </tr>\n    <tr>\n      <th>10</th>\n      <td>0.017379</td>\n      <td>0.019552</td>\n      <td>0.004342</td>\n      <td>0.0</td>\n      <td>0.002128</td>\n      <td>0.0</td>\n      <td>0.009238</td>\n      <td>0.002119</td>\n      <td>0.00682</td>\n      <td>1</td>\n      <td>0.01017</td>\n      <td>0.001083</td>\n      <td>0.009841</td>\n      <td>0.004188</td>\n      <td>0.003541</td>\n      <td>0.010442</td>\n      <td>0.004644</td>\n      <td>0.00418</td>\n    </tr>\n    <tr>\n      <th>11</th>\n      <td>0.030257</td>\n      <td>0.023827</td>\n      <td>0.012851</td>\n      <td>0.020468</td>\n      <td>0.002099</td>\n      <td>0.00136</td>\n      <td>0.025063</td>\n      <td>0.007318</td>\n      <td>0.015139</td>\n      <td>0.01017</td>\n      <td>1</td>\n      <td>0.001068</td>\n      <td>0.010922</td>\n      <td>0.00723</td>\n      <td>0.005823</td>\n      <td>0.02518</td>\n      <td>0.013745</td>\n      <td>0.002062</td>\n    </tr>\n    <tr>\n      <th>12</th>\n      <td>0.003866</td>\n      <td>0.001087</td>\n      <td>0.002052</td>\n      <td>0.005349</td>\n      <td>0.0</td>\n      <td>0.0</td>\n      <td>0.005458</td>\n      <td>0.0</td>\n      <td>0.001612</td>\n      <td>0.001083</td>\n      <td>0.001068</td>\n      <td>1</td>\n      <td>0.002326</td>\n      <td>0.00099</td>\n      <td>0.0</td>\n      <td>0.005484</td>\n      <td>0.001463</td>\n      <td>0.002963</td>\n    </tr>\n    <tr>\n      <th>13</th>\n      <td>0.008783</td>\n      <td>0.011116</td>\n      <td>0.004663</td>\n      <td>0.0</td>\n      <td>0.002285</td>\n      <td>0.00444</td>\n      <td>0.014881</td>\n      <td>0.004552</td>\n      <td>0.009155</td>\n      <td>0.009841</td>\n      <td>0.010922</td>\n      <td>0.002326</td>\n      <td>1</td>\n      <td>0.008995</td>\n      <td>0.005071</td>\n      <td>0.00623</td>\n      <td>0.001662</td>\n      <td>0.002244</td>\n    </tr>\n    <tr>\n      <th>14</th>\n      <td>0.012147</td>\n      <td>0.003154</td>\n      <td>0.002977</td>\n      <td>0.005172</td>\n      <td>0.001945</td>\n      <td>0.0</td>\n      <td>0.003166</td>\n      <td>0.000969</td>\n      <td>0.001558</td>\n      <td>0.004188</td>\n      <td>0.00723</td>\n      <td>0.00099</td>\n      <td>0.008995</td>\n      <td>1</td>\n      <td>0.001079</td>\n      <td>0.005302</td>\n      <td>0.0</td>\n      <td>0.004776</td>\n    </tr>\n    <tr>\n      <th>15</th>\n      <td>0.005268</td>\n      <td>0.003556</td>\n      <td>0.003356</td>\n      <td>0.0</td>\n      <td>0.002193</td>\n      <td>0.0</td>\n      <td>0.00119</td>\n      <td>0.001092</td>\n      <td>0.001757</td>\n      <td>0.003541</td>\n      <td>0.005823</td>\n      <td>0.0</td>\n      <td>0.005071</td>\n      <td>0.001079</td>\n      <td>1</td>\n      <td>0.001196</td>\n      <td>0.003191</td>\n      <td>0.001077</td>\n    </tr>\n    <tr>\n      <th>16</th>\n      <td>0.010355</td>\n      <td>0.016308</td>\n      <td>0.012095</td>\n      <td>0.005731</td>\n      <td>0.002155</td>\n      <td>0.001396</td>\n      <td>0.02807</td>\n      <td>0.004293</td>\n      <td>0.013816</td>\n      <td>0.010442</td>\n      <td>0.02518</td>\n      <td>0.005484</td>\n      <td>0.00623</td>\n      <td>0.005302</td>\n      <td>0.001196</td>\n      <td>1</td>\n      <td>0.017247</td>\n      <td>0.003175</td>\n    </tr>\n    <tr>\n      <th>17</th>\n      <td>0.00829</td>\n      <td>0.01088</td>\n      <td>0.013204</td>\n      <td>0.007647</td>\n      <td>0.005751</td>\n      <td>0.0</td>\n      <td>0.006242</td>\n      <td>0.002864</td>\n      <td>0.006913</td>\n      <td>0.004644</td>\n      <td>0.013745</td>\n      <td>0.001463</td>\n      <td>0.001662</td>\n      <td>0.0</td>\n      <td>0.003191</td>\n      <td>0.017247</td>\n      <td>1</td>\n      <td>0.001412</td>\n    </tr>\n    <tr>\n      <th>18</th>\n      <td>0.004663</td>\n      <td>0.010492</td>\n      <td>0.002971</td>\n      <td>0.0</td>\n      <td>0.001941</td>\n      <td>0.0</td>\n      <td>0.005267</td>\n      <td>0.000967</td>\n      <td>0.0</td>\n      <td>0.00418</td>\n      <td>0.002062</td>\n      <td>0.002963</td>\n      <td>0.002244</td>\n      <td>0.004776</td>\n      <td>0.001077</td>\n      <td>0.003175</td>\n      <td>0.001412</td>\n      <td>1</td>\n    </tr>\n  </tbody>\n</table>\n</div>"
     },
     "execution_count": 20,
     "metadata": {},
     "output_type": "execute_result"
    }
   ],
   "source": [
    "data_ibs"
   ],
   "metadata": {
    "collapsed": false,
    "pycharm": {
     "name": "#%%\n"
    }
   }
  },
  {
   "cell_type": "code",
   "execution_count": 328,
   "outputs": [],
   "source": [
    "data_neighbours = pd.DataFrame(index=data_ibs.columns, columns=range(1, 7))\n",
    "\n",
    "# Loop through our similarity dataframe and fill in neighbouring item names\n",
    "for i in range(0, len(data_ibs.columns)):\n",
    "    data_neighbours.iloc[i, :6] = data_ibs.iloc[:, i].sort_values(ascending=False)[:6].index"
   ],
   "metadata": {
    "collapsed": false,
    "pycharm": {
     "name": "#%%\n"
    }
   }
  },
  {
   "cell_type": "code",
   "execution_count": 329,
   "outputs": [],
   "source": [
    "data_neighbours.drop(columns=1, inplace=True)"
   ],
   "metadata": {
    "collapsed": false,
    "pycharm": {
     "name": "#%%\n"
    }
   }
  },
  {
   "cell_type": "code",
   "execution_count": 330,
   "outputs": [
    {
     "data": {
      "text/plain": "          2   3   4   5   6\ngame_id                    \n1        11  10   2  14   9\n2        11  10   7  16   1\n3        17  11  16   7   9\n4        11   5  17   7   3\n5         4   3  17   9  13\n6        13   3  16  11   1\n7        16  11   2  13   9\n8        11   9   1   3  13\n9        11  16   7   1   3\n10        2   1  16  11  13\n11        1  16   7   2   4\n12       16   7   4   1  18\n13        7   2  11  10   9\n14        1  13  11  16   4\n15       11   1  13   2  10\n16        7  11  17   2   9\n17       16  11   3   2   1\n18        2   7  14   1  10",
      "text/html": "<div>\n<style scoped>\n    .dataframe tbody tr th:only-of-type {\n        vertical-align: middle;\n    }\n\n    .dataframe tbody tr th {\n        vertical-align: top;\n    }\n\n    .dataframe thead th {\n        text-align: right;\n    }\n</style>\n<table border=\"1\" class=\"dataframe\">\n  <thead>\n    <tr style=\"text-align: right;\">\n      <th></th>\n      <th>2</th>\n      <th>3</th>\n      <th>4</th>\n      <th>5</th>\n      <th>6</th>\n    </tr>\n    <tr>\n      <th>game_id</th>\n      <th></th>\n      <th></th>\n      <th></th>\n      <th></th>\n      <th></th>\n    </tr>\n  </thead>\n  <tbody>\n    <tr>\n      <th>1</th>\n      <td>11</td>\n      <td>10</td>\n      <td>2</td>\n      <td>14</td>\n      <td>9</td>\n    </tr>\n    <tr>\n      <th>2</th>\n      <td>11</td>\n      <td>10</td>\n      <td>7</td>\n      <td>16</td>\n      <td>1</td>\n    </tr>\n    <tr>\n      <th>3</th>\n      <td>17</td>\n      <td>11</td>\n      <td>16</td>\n      <td>7</td>\n      <td>9</td>\n    </tr>\n    <tr>\n      <th>4</th>\n      <td>11</td>\n      <td>5</td>\n      <td>17</td>\n      <td>7</td>\n      <td>3</td>\n    </tr>\n    <tr>\n      <th>5</th>\n      <td>4</td>\n      <td>3</td>\n      <td>17</td>\n      <td>9</td>\n      <td>13</td>\n    </tr>\n    <tr>\n      <th>6</th>\n      <td>13</td>\n      <td>3</td>\n      <td>16</td>\n      <td>11</td>\n      <td>1</td>\n    </tr>\n    <tr>\n      <th>7</th>\n      <td>16</td>\n      <td>11</td>\n      <td>2</td>\n      <td>13</td>\n      <td>9</td>\n    </tr>\n    <tr>\n      <th>8</th>\n      <td>11</td>\n      <td>9</td>\n      <td>1</td>\n      <td>3</td>\n      <td>13</td>\n    </tr>\n    <tr>\n      <th>9</th>\n      <td>11</td>\n      <td>16</td>\n      <td>7</td>\n      <td>1</td>\n      <td>3</td>\n    </tr>\n    <tr>\n      <th>10</th>\n      <td>2</td>\n      <td>1</td>\n      <td>16</td>\n      <td>11</td>\n      <td>13</td>\n    </tr>\n    <tr>\n      <th>11</th>\n      <td>1</td>\n      <td>16</td>\n      <td>7</td>\n      <td>2</td>\n      <td>4</td>\n    </tr>\n    <tr>\n      <th>12</th>\n      <td>16</td>\n      <td>7</td>\n      <td>4</td>\n      <td>1</td>\n      <td>18</td>\n    </tr>\n    <tr>\n      <th>13</th>\n      <td>7</td>\n      <td>2</td>\n      <td>11</td>\n      <td>10</td>\n      <td>9</td>\n    </tr>\n    <tr>\n      <th>14</th>\n      <td>1</td>\n      <td>13</td>\n      <td>11</td>\n      <td>16</td>\n      <td>4</td>\n    </tr>\n    <tr>\n      <th>15</th>\n      <td>11</td>\n      <td>1</td>\n      <td>13</td>\n      <td>2</td>\n      <td>10</td>\n    </tr>\n    <tr>\n      <th>16</th>\n      <td>7</td>\n      <td>11</td>\n      <td>17</td>\n      <td>2</td>\n      <td>9</td>\n    </tr>\n    <tr>\n      <th>17</th>\n      <td>16</td>\n      <td>11</td>\n      <td>3</td>\n      <td>2</td>\n      <td>1</td>\n    </tr>\n    <tr>\n      <th>18</th>\n      <td>2</td>\n      <td>7</td>\n      <td>14</td>\n      <td>1</td>\n      <td>10</td>\n    </tr>\n  </tbody>\n</table>\n</div>"
     },
     "execution_count": 330,
     "metadata": {},
     "output_type": "execute_result"
    }
   ],
   "source": [
    "data_neighbours"
   ],
   "metadata": {
    "collapsed": false,
    "pycharm": {
     "name": "#%%\n"
    }
   }
  },
  {
   "cell_type": "code",
   "execution_count": 331,
   "outputs": [],
   "source": [
    "data_neighbours.index.name = 'game_id'"
   ],
   "metadata": {
    "collapsed": false,
    "pycharm": {
     "name": "#%%\n"
    }
   }
  },
  {
   "cell_type": "code",
   "execution_count": 341,
   "outputs": [],
   "source": [
    "data_neighbours.rename(columns={data_neighbours.columns[0]: 'sim1'}, inplace=True)\n",
    "data_neighbours.rename(columns={data_neighbours.columns[1]: 'sim2'}, inplace=True)\n",
    "data_neighbours.rename(columns={data_neighbours.columns[2]: 'sim3'}, inplace=True)\n",
    "data_neighbours.rename(columns={data_neighbours.columns[3]: 'sim4'}, inplace=True)\n",
    "data_neighbours.rename(columns={data_neighbours.columns[4]: 'sim5'}, inplace=True)"
   ],
   "metadata": {
    "collapsed": false,
    "pycharm": {
     "name": "#%%\n"
    }
   }
  },
  {
   "cell_type": "code",
   "execution_count": 342,
   "outputs": [
    {
     "data": {
      "text/plain": "        sim1 sim2 sim3 sim4 sim5\ngame_id                         \n1         11   10    2   14    9\n2         11   10    7   16    1\n3         17   11   16    7    9\n4         11    5   17    7    3\n5          4    3   17    9   13\n6         13    3   16   11    1\n7         16   11    2   13    9\n8         11    9    1    3   13\n9         11   16    7    1    3\n10         2    1   16   11   13\n11         1   16    7    2    4\n12        16    7    4    1   18\n13         7    2   11   10    9\n14         1   13   11   16    4\n15        11    1   13    2   10\n16         7   11   17    2    9\n17        16   11    3    2    1\n18         2    7   14    1   10",
      "text/html": "<div>\n<style scoped>\n    .dataframe tbody tr th:only-of-type {\n        vertical-align: middle;\n    }\n\n    .dataframe tbody tr th {\n        vertical-align: top;\n    }\n\n    .dataframe thead th {\n        text-align: right;\n    }\n</style>\n<table border=\"1\" class=\"dataframe\">\n  <thead>\n    <tr style=\"text-align: right;\">\n      <th></th>\n      <th>sim1</th>\n      <th>sim2</th>\n      <th>sim3</th>\n      <th>sim4</th>\n      <th>sim5</th>\n    </tr>\n    <tr>\n      <th>game_id</th>\n      <th></th>\n      <th></th>\n      <th></th>\n      <th></th>\n      <th></th>\n    </tr>\n  </thead>\n  <tbody>\n    <tr>\n      <th>1</th>\n      <td>11</td>\n      <td>10</td>\n      <td>2</td>\n      <td>14</td>\n      <td>9</td>\n    </tr>\n    <tr>\n      <th>2</th>\n      <td>11</td>\n      <td>10</td>\n      <td>7</td>\n      <td>16</td>\n      <td>1</td>\n    </tr>\n    <tr>\n      <th>3</th>\n      <td>17</td>\n      <td>11</td>\n      <td>16</td>\n      <td>7</td>\n      <td>9</td>\n    </tr>\n    <tr>\n      <th>4</th>\n      <td>11</td>\n      <td>5</td>\n      <td>17</td>\n      <td>7</td>\n      <td>3</td>\n    </tr>\n    <tr>\n      <th>5</th>\n      <td>4</td>\n      <td>3</td>\n      <td>17</td>\n      <td>9</td>\n      <td>13</td>\n    </tr>\n    <tr>\n      <th>6</th>\n      <td>13</td>\n      <td>3</td>\n      <td>16</td>\n      <td>11</td>\n      <td>1</td>\n    </tr>\n    <tr>\n      <th>7</th>\n      <td>16</td>\n      <td>11</td>\n      <td>2</td>\n      <td>13</td>\n      <td>9</td>\n    </tr>\n    <tr>\n      <th>8</th>\n      <td>11</td>\n      <td>9</td>\n      <td>1</td>\n      <td>3</td>\n      <td>13</td>\n    </tr>\n    <tr>\n      <th>9</th>\n      <td>11</td>\n      <td>16</td>\n      <td>7</td>\n      <td>1</td>\n      <td>3</td>\n    </tr>\n    <tr>\n      <th>10</th>\n      <td>2</td>\n      <td>1</td>\n      <td>16</td>\n      <td>11</td>\n      <td>13</td>\n    </tr>\n    <tr>\n      <th>11</th>\n      <td>1</td>\n      <td>16</td>\n      <td>7</td>\n      <td>2</td>\n      <td>4</td>\n    </tr>\n    <tr>\n      <th>12</th>\n      <td>16</td>\n      <td>7</td>\n      <td>4</td>\n      <td>1</td>\n      <td>18</td>\n    </tr>\n    <tr>\n      <th>13</th>\n      <td>7</td>\n      <td>2</td>\n      <td>11</td>\n      <td>10</td>\n      <td>9</td>\n    </tr>\n    <tr>\n      <th>14</th>\n      <td>1</td>\n      <td>13</td>\n      <td>11</td>\n      <td>16</td>\n      <td>4</td>\n    </tr>\n    <tr>\n      <th>15</th>\n      <td>11</td>\n      <td>1</td>\n      <td>13</td>\n      <td>2</td>\n      <td>10</td>\n    </tr>\n    <tr>\n      <th>16</th>\n      <td>7</td>\n      <td>11</td>\n      <td>17</td>\n      <td>2</td>\n      <td>9</td>\n    </tr>\n    <tr>\n      <th>17</th>\n      <td>16</td>\n      <td>11</td>\n      <td>3</td>\n      <td>2</td>\n      <td>1</td>\n    </tr>\n    <tr>\n      <th>18</th>\n      <td>2</td>\n      <td>7</td>\n      <td>14</td>\n      <td>1</td>\n      <td>10</td>\n    </tr>\n  </tbody>\n</table>\n</div>"
     },
     "execution_count": 342,
     "metadata": {},
     "output_type": "execute_result"
    }
   ],
   "source": [
    "data_neighbours"
   ],
   "metadata": {
    "collapsed": false,
    "pycharm": {
     "name": "#%%\n"
    }
   }
  },
  {
   "cell_type": "code",
   "execution_count": 350,
   "outputs": [],
   "source": [
    "import sqlite3\n",
    "\n",
    "conn = sqlite3.connect('../database/gamender.db')\n",
    "c = conn.cursor()\n",
    "c.execute(\n",
    "    'CREATE TABLE IF NOT EXISTS collaboration (game_id number, sim1 number,sim2 number,sim3 number, sim4 number,sim5 number)')\n",
    "conn.commit()\n"
   ],
   "metadata": {
    "collapsed": false,
    "pycharm": {
     "name": "#%%\n"
    }
   }
  },
  {
   "cell_type": "code",
   "execution_count": 352,
   "outputs": [],
   "source": [
    "data_neighbours.to_sql('collaboration', conn, if_exists='replace', index=True)"
   ],
   "metadata": {
    "collapsed": false,
    "pycharm": {
     "name": "#%%\n"
    }
   }
  },
  {
   "cell_type": "code",
   "execution_count": 404,
   "outputs": [],
   "source": [
    "listofgame"
   ],
   "metadata": {
    "collapsed": false,
    "pycharm": {
     "name": "#%%\n"
    }
   }
  },
  {
   "cell_type": "code",
   "execution_count": 405,
   "outputs": [
    {
     "data": {
      "text/plain": "8"
     },
     "execution_count": 405,
     "metadata": {},
     "output_type": "execute_result"
    }
   ],
   "source": [
    "len(listofgame)"
   ],
   "metadata": {
    "collapsed": false,
    "pycharm": {
     "name": "#%%\n"
    }
   }
  },
  {
   "cell_type": "code",
   "execution_count": null,
   "outputs": [],
   "source": [
    "def remove_alrdy_played(a, b):\n",
    "    for i in a[:]:\n",
    "        if i in b:\n",
    "            a.remove(i)"
   ],
   "metadata": {
    "collapsed": false,
    "pycharm": {
     "name": "#%%\n"
    }
   }
  },
  {
   "cell_type": "code",
   "execution_count": 406,
   "outputs": [],
   "source": [
    "from collections import Counter\n",
    "from itertools import chain\n",
    "\n",
    "\n",
    "# takes list of user liked gamed (l) and colab data\n",
    "def gettopgame(l, data):\n",
    "    common = []\n",
    "    listoflists = []\n",
    "    if len(l) == 1:\n",
    "        common.append(data.iloc[l[0] - 1, 0])\n",
    "        return common\n",
    "    else:\n",
    "        n = len(l)\n",
    "        for j in range(0, n):\n",
    "            listoflists.append(list(data.iloc[l[j] - 1]))\n",
    "        common = list(chain.from_iterable(listoflists))\n",
    "        commonofmany = [k for k, v in Counter(common).items() if v > 1]\n",
    "        if len(commonofmany) > 0:\n",
    "            remove_alrdy_played(commonofmany, l)\n",
    "            return commonofmany\n",
    "        else:\n",
    "            remove_alrdy_played(common, l)\n",
    "            return list(dict.fromkeys(common))"
   ],
   "metadata": {
    "collapsed": false,
    "pycharm": {
     "name": "#%%\n"
    }
   }
  },
  {
   "cell_type": "code",
   "execution_count": 407,
   "outputs": [],
   "source": [
    "common = gettopgame(listofgame, data_neighbours)"
   ],
   "metadata": {
    "collapsed": false,
    "pycharm": {
     "name": "#%%\n"
    }
   }
  },
  {
   "cell_type": "code",
   "execution_count": 411,
   "outputs": [
    {
     "data": {
      "text/plain": "[11, 14, 13, 7, 3]"
     },
     "execution_count": 411,
     "metadata": {},
     "output_type": "execute_result"
    }
   ],
   "source": [
    "common"
   ],
   "metadata": {
    "collapsed": false,
    "pycharm": {
     "name": "#%%\n"
    }
   }
  }
 ],
 "metadata": {
  "kernelspec": {
   "display_name": "Python 3",
   "language": "python",
   "name": "python3"
  },
  "language_info": {
   "codemirror_mode": {
    "name": "ipython",
    "version": 2
   },
   "file_extension": ".py",
   "mimetype": "text/x-python",
   "name": "python",
   "nbconvert_exporter": "python",
   "pygments_lexer": "ipython2",
   "version": "2.7.6"
  }
 },
 "nbformat": 4,
 "nbformat_minor": 0
}