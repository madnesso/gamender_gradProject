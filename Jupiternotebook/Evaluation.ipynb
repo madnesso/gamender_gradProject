{
 "cells": [
  {
   "cell_type": "markdown",
   "source": [
    "## Acessing sql database to get tweets"
   ],
   "metadata": {
    "collapsed": false
   }
  },
  {
   "cell_type": "code",
   "execution_count": 3,
   "metadata": {
    "collapsed": true
   },
   "outputs": [
    {
     "name": "stdout",
     "output_type": "stream",
     "text": [
      "                  user                                          full_text\n",
      "0   762319514734297088  2nd 125k #EASPORTSFIFA20 @Castro1021 @TwoSyncO...\n",
      "1   859350438461685760  🌐TTMWW🌐▪️ #FIFA22 is here #Oct. 1, 2021. The #...\n",
      "2  1349475286451105798  THREAD : Idées de concepts pour le mode carriè...\n",
      "3  1016289053438828545  Je viens d'acheter fifa 22 mais y a pas un pti...\n",
      "4             61085376  AGARRÓN INTERNACIONAL 👊🏼🔥\\n\\nFunes Mori - Luka...\n"
     ]
    }
   ],
   "source": [
    "import pandas as pd\n",
    "import sqlite3\n",
    "\n",
    "# Read sqlite query results into a pandas DataFrame\n",
    "con = sqlite3.connect(\"../data/FIFA 22\")\n",
    "df = pd.read_sql_query(\"SELECT user, full_text  FROM tweets\", con)\n",
    "\n",
    "# Verify that result of SQL query is stored in the dataframe\n",
    "print(df.head())\n",
    "\n",
    "con.close()"
   ]
  },
  {
   "cell_type": "code",
   "execution_count": 5,
   "outputs": [],
   "source": [
    "import re\n",
    "\n",
    "hashtags = re.compile(r\"^#\\S+|\\s#\\S+\")\n",
    "mentions = re.compile(r\"^@\\S+|\\s@\\S+\")\n",
    "urls = re.compile(r\"https?://\\S+\")\n",
    "\n",
    "\n",
    "def process_text(text):\n",
    "    text = re.sub(r'http\\S+', '', text)\n",
    "    text = hashtags.sub(' hashtag', text)\n",
    "    text = mentions.sub(' entity', text)\n",
    "    return ' '.join(re.sub(\"(@[A-Za-z0-9]+)|([^0-9A-Za-z \\t])|(\\w+:\\/\\/\\S+)\", \" \", text).split())\n",
    "\n",
    "\n",
    "df[\"Test\"] = df.full_text.apply(process_text)"
   ],
   "metadata": {
    "collapsed": false,
    "pycharm": {
     "name": "#%%\n"
    }
   }
  },
  {
   "cell_type": "code",
   "execution_count": 6,
   "outputs": [],
   "source": [
    "df.drop(columns='full_text', inplace=True)"
   ],
   "metadata": {
    "collapsed": false,
    "pycharm": {
     "name": "#%%\n"
    }
   }
  },
  {
   "cell_type": "code",
   "execution_count": 8,
   "outputs": [],
   "source": [
    "import numpy as np\n",
    "\n",
    "df['Test'].replace('', np.nan, inplace=True)"
   ],
   "metadata": {
    "collapsed": false,
    "pycharm": {
     "name": "#%%\n"
    }
   }
  },
  {
   "cell_type": "code",
   "execution_count": 9,
   "outputs": [],
   "source": [
    "df.dropna(subset=['Test'], inplace=True)"
   ],
   "metadata": {
    "collapsed": false,
    "pycharm": {
     "name": "#%%\n"
    }
   }
  },
  {
   "cell_type": "code",
   "execution_count": 12,
   "outputs": [],
   "source": [
    "from transformers import AutoTokenizer, AutoModelForSequenceClassification\n",
    "\n",
    "tokenizer = AutoTokenizer.from_pretrained(\"../models/trial5\")\n",
    "model = AutoModelForSequenceClassification.from_pretrained(\"../models/trial5\")"
   ],
   "metadata": {
    "collapsed": false,
    "pycharm": {
     "name": "#%%\n"
    }
   }
  },
  {
   "cell_type": "code",
   "execution_count": 14,
   "outputs": [],
   "source": [
    "import torch\n",
    "\n",
    "\n",
    "def predictionPipeline(text):\n",
    "    #id_tolabel = {0: \"Negative\", 2: \"Positive\"}\n",
    "    modeleval = model.eval()\n",
    "    tokenized = tokenizer(text, return_tensors='pt', truncation=True).to(modeleval.device)\n",
    "    with torch.no_grad(): label = torch.argmax(model.forward(**tokenized).logits, dim=1)[0].cuda().item()\n",
    "    return label\n",
    "\n",
    "\n",
    "df['prediction'] = df['Test'].apply(predictionPipeline)"
   ],
   "metadata": {
    "collapsed": false,
    "pycharm": {
     "name": "#%%\n"
    }
   }
  },
  {
   "cell_type": "code",
   "execution_count": 15,
   "outputs": [],
   "source": [
    "df_positive = df[df['prediction'] == 2]"
   ],
   "metadata": {
    "collapsed": false,
    "pycharm": {
     "name": "#%%\n"
    }
   }
  },
  {
   "cell_type": "code",
   "execution_count": null,
   "outputs": [],
   "source": [
    "add_handler(df_positive['user'])\n",
    "add_liked_games(df_positive['user'], game_name)"
   ],
   "metadata": {
    "collapsed": false,
    "pycharm": {
     "name": "#%%\n"
    }
   }
  },
  {
   "cell_type": "code",
   "execution_count": 45,
   "outputs": [],
   "source": [
    "score = df[df[\"prediction\"] == 2].count()[0] - df[df[\"prediction\"] == 0].count()[0]"
   ],
   "metadata": {
    "collapsed": false,
    "pycharm": {
     "name": "#%%\n"
    }
   }
  }
 ],
 "metadata": {
  "kernelspec": {
   "display_name": "Python 3",
   "language": "python",
   "name": "python3"
  },
  "language_info": {
   "codemirror_mode": {
    "name": "ipython",
    "version": 2
   },
   "file_extension": ".py",
   "mimetype": "text/x-python",
   "name": "python",
   "nbconvert_exporter": "python",
   "pygments_lexer": "ipython2",
   "version": "2.7.6"
  }
 },
 "nbformat": 4,
 "nbformat_minor": 0
}